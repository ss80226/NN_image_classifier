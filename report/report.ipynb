{
 "cells": [
  {
   "cell_type": "code",
   "execution_count": 1,
   "metadata": {},
   "outputs": [],
   "source": [
    "import imageio\n",
    "import glob\n",
    "import numpy as np\n",
    "from sklearn.preprocessing import StandardScaler\n",
    "from sklearn.decomposition import PCA\n",
    "np.random.seed(6666) # to reprodece the performance, you can also remove it"
   ]
  },
  {
   "cell_type": "markdown",
   "metadata": {},
   "source": [
    "### Dataloader"
   ]
  },
  {
   "cell_type": "code",
   "execution_count": 2,
   "metadata": {},
   "outputs": [],
   "source": [
    "data = np.zeros(shape=(490*3, 32, 32, 4))\n",
    "label = np.zeros(shape=(490*3, 3)) # one hot \n",
    "for i, im_path in enumerate(glob.glob(\"./Data/Data_train/Carambula/*.png\")):\n",
    "    im = imageio.imread(im_path)\n",
    "    data[i] = np.array(im)\n",
    "    label[i] = np.array([1, 0, 0]) # one hot\n",
    "for i, im_path in enumerate(glob.glob(\"./Data/Data_train/Lychee/*.png\")):\n",
    "    im = imageio.imread(im_path)\n",
    "    data[490+i] = np.array(im)\n",
    "    label[490+i] = np.array([0, 1, 0]) # one hot\n",
    "for i, im_path in enumerate(glob.glob(\"./Data/Data_train/Pear/*.png\")):\n",
    "    im = imageio.imread(im_path)\n",
    "    data[490*2+i] = np.array(im)\n",
    "    label[490*2+i] = np.array([0, 0, 1])\n",
    "d = data.flatten().reshape(490*3, 4096) # flatten & reshape the data array"
   ]
  },
  {
   "cell_type": "code",
   "execution_count": 3,
   "metadata": {},
   "outputs": [],
   "source": [
    "test_data = np.zeros(shape=(166*3, 32, 32, 4))\n",
    "test_label = np.zeros(shape=(166*3, 3)) # one hot \n",
    "for i, im_path in enumerate(glob.glob(\"./Data/Data_test/Carambula/*.png\")):\n",
    "    im = imageio.imread(im_path)\n",
    "    test_data[i] = np.array(im)\n",
    "    test_label[i] = np.array([1, 0, 0]) # one hot\n",
    "for i, im_path in enumerate(glob.glob(\"./Data/Data_test/Lychee/*.png\")):\n",
    "    im = imageio.imread(im_path)\n",
    "    test_data[166+i] = np.array(im)\n",
    "    test_label[166+i] = np.array([0, 1, 0]) # one hot\n",
    "for i, im_path in enumerate(glob.glob(\"./Data/Data_test/Pear/*.png\")):\n",
    "    im = imageio.imread(im_path)\n",
    "    test_data[166*2+i] = np.array(im)\n",
    "    test_label[166*2+i] = np.array([0, 0, 1])\n",
    "test_d = test_data.flatten().reshape(166*3, 4096) # flatten & reshape the data array"
   ]
  },
  {
   "cell_type": "markdown",
   "metadata": {},
   "source": [
    "# Part (a)\n",
    "## 1. PCA"
   ]
  },
  {
   "cell_type": "markdown",
   "metadata": {},
   "source": [
    "### Standardize the Data\n",
    "Normalize the input data, since PCA is effected by scale"
   ]
  },
  {
   "cell_type": "code",
   "execution_count": 4,
   "metadata": {},
   "outputs": [],
   "source": [
    "scaler = StandardScaler()\n",
    "# Fit on training set only.\n",
    "scaler.fit(d)\n",
    "# Apply transform to both the training set and the test set.\n",
    "\n",
    "train_img = scaler.transform(d)\n",
    "test_img = scaler.transform(test_d)"
   ]
  },
  {
   "cell_type": "markdown",
   "metadata": {},
   "source": [
    "### Apply PCA on training & testing data\n",
    "1. Set the components of PCA as 2\n",
    "2. fitting PCA on training data set\n",
    "3. apply the pca to training & testing data"
   ]
  },
  {
   "cell_type": "code",
   "execution_count": 5,
   "metadata": {},
   "outputs": [],
   "source": [
    "pca = PCA(n_components=2)\n",
    "\n",
    "pca.fit(train_img)\n",
    "\n",
    "train_img = pca.transform(train_img)\n",
    "test_img = pca.transform(test_img)"
   ]
  },
  {
   "cell_type": "markdown",
   "metadata": {},
   "source": [
    "## 2. Two layer NN\n",
    "### The implement detals are listed below:\n",
    "1. The neural network was modulized as a class with several funcion belows\n",
    "2. In `init()` the var `self.const` was set to prevent from dividing zero to cause INF value, and the `self.step` is the gradient step. The hidden_d assign the hidden dimension of the network\n",
    "3. `sigmoid()` and `softmax()` are the activate functoins\n",
    "4. `sigmoid_derivative` is the derivative of sigmoid activate functoin\n",
    "5. `softmax_cross_entropy_deriative()` is the product between derivative of softmax & derivative of cross entropy loss\n",
    "6. `batch_norm()` is implementation of batch normalization, to prevent sigmoid to satiate easily\n",
    "7. `forward()` forward the input throughout the network, used when testing time\n",
    "8. `backprop()` is used when training time, including the the forward pass of the network and calculating the gradient with back-propagation by chain rules\n",
    "\n",
    "### The pipeline\n",
    "input_date --> concate bias_0 -->weights1 --> Z1 --> sigmoid --> output of layer1 --> add bias_1 --> weights2 --> Z2 --> softmax --> output\n",
    "\n",
    "### Stochastic gradient descent (SGD)\n",
    "The center concept of SGD differet from gradient descent is that SGD using mini-batch, not whole training dataset, to calculate the loss then optimize.\n",
    "The implimentation of SGD in this assignment is that I random sample a batch of input data from training set in `train()` function, the input parameter `batch_size` determine the mini-batch size."
   ]
  },
  {
   "cell_type": "code",
   "execution_count": 6,
   "metadata": {},
   "outputs": [],
   "source": [
    "class twoLayerNN():\n",
    "    \n",
    "    def __init__(self, input_shape, output_shape, hidden_d=32):\n",
    "        # seeding for random number generation\n",
    "        np.random.seed(1)\n",
    "        self.weights1   = np.random.rand(input_shape+1,hidden_d) # +1 is the bias \n",
    "        self.weights2   = np.random.rand(hidden_d,output_shape)\n",
    "        self.b_std = np.zeros(shape=(hidden_d,))\n",
    "        self.b_mean = np.zeros(shape=(hidden_d,))\n",
    "        self.bias_1 = np.random.rand(1, hidden_d) # hidden layer1 bias (from [0.1))\n",
    "        self.const = 0.00000000001 # prevent from / 0\n",
    "        self.step = 0.1\n",
    "\n",
    "    def weights(self): # testing for debug\n",
    "        return self.weights1, self.weights2\n",
    "    \n",
    "    def sigmoid(self, x):\n",
    "        #applying the sigmoid function\n",
    "        return 1 / (1 + np.exp(-x))\n",
    "    \n",
    "    def sigmoid_derivative(self, x):\n",
    "        #computing derivative to the Sigmoid function\n",
    "        return x * (1 - x)\n",
    "    \n",
    "    def softmax(self, x):\n",
    "        exps = np.exp(x - np.max(x, axis=1).reshape(x.shape[0], 1))\n",
    "        return exps / np.sum(exps, axis=1).reshape(x.shape[0], 1)\n",
    "    \n",
    "    def batch_norm(self, x, bigBatch=True):\n",
    "        if bigBatch: # training time\n",
    "            m = np.mean(x, axis=0)\n",
    "            s = np.std(x, axis=0)\n",
    "        else: # testing time\n",
    "            m = self.b_mean\n",
    "            s = self.b_std\n",
    "        return (x-m)/(s+self.const), m, s\n",
    "    \n",
    "    def batch_norm_derivative(self, x):\n",
    "        return (np.std(x, axis=0) + self.const)**(-1)\n",
    "    \n",
    "    def softmax_cross_entropy_deriative(self, x, y):\n",
    "        return (x - y) # see how cross entropy loss & softmax deriative \n",
    "    \n",
    "    def cross_entropy(self, x, y):\n",
    "        return -np.log(x+self.const)*y\n",
    "    \n",
    "    def forward(self, x):\n",
    "        bias_0 = np.random.randn(x.shape[0], 1) # input bais\n",
    "        x = np.concatenate((bias_0, x), axis=1) # concatenate the bias to the input\n",
    "        z1 = np.dot(x, self.weights1)\n",
    "        batch_norm1, _, _ = self.batch_norm(z1, bigBatch=False)\n",
    "        layer1 = self.sigmoid(batch_norm1)\n",
    "        bias_1 = self.bias_1 # hidden layer1 bias (from [0.1))\n",
    "        layer1 += bias_1\n",
    "        z2 = np.dot(layer1, self.weights2)\n",
    "        out = self.softmax(z2)\n",
    "        return out, z1, z2\n",
    "    \n",
    "    def backprop(self, x, y, iteration):\n",
    "        bias_0 = np.random.randn(x.shape[0], 1) # input bais\n",
    "        x = np.concatenate((bias_0, x), axis=1) # concatenate the bias to the input\n",
    "        \n",
    "        z1 = np.dot(x, self.weights1)\n",
    "        batch_norm1, mean, std = self.batch_norm(z1)\n",
    "        if not iteration == 0:\n",
    "            self.b_mean = 0.9*self.b_mean + 0.1*mean\n",
    "            self.b_std = 0.9*self.b_std + 0.1*std\n",
    "        else:\n",
    "            self.b_mean = mean\n",
    "            self.b_std = std\n",
    "        layer1 = self.sigmoid(batch_norm1)\n",
    "        bias_1 = self.bias_1 # hidden layer1 bias (from [0.1))\n",
    "        layer1_b = layer1+bias_1 # WX+b\n",
    "        z2 = np.dot(layer1_b, self.weights2)\n",
    "        out = self.softmax(z2)\n",
    "        \n",
    "        ## backprop & calculate the gradient\n",
    "        \n",
    "        d_softmax_cross = self.softmax_cross_entropy_deriative(out, y)/y.shape[0] # mean\n",
    "        d_weights2 = np.dot(np.transpose(layer1_b), d_softmax_cross)\n",
    "        b = np.dot(d_softmax_cross, np.transpose(self.weights2)) \\\n",
    "        * self.sigmoid_derivative(layer1) * self.batch_norm_derivative(z1)\n",
    "\n",
    "        d_weights1 = np.dot(np.transpose(x),  b)\n",
    "        d_bias1 = np.dot(np.ones(shape=(1, x.shape[0])), b)\n",
    "\n",
    "        ## update weights\n",
    "        self.weights2 -= self.step*d_weights2\n",
    "        self.weights1 -= self.step*d_weights1\n",
    "        self.bias_1 -= self.step*d_bias1\n",
    "        \n",
    "        loss = self.cross_entropy(out, y)\n",
    "        loss = np.sum(loss, axis=1)\n",
    "        loss = np.mean(loss)\n",
    "        accuracy = self.accuracy(out, y)\n",
    "        return loss, accuracy\n",
    "    \n",
    "    def train(self, data, label ,total_iteration, batch_size=128, log=True):\n",
    "        for i in range(total_iteration):\n",
    "            idx = np.random.choice(490*3, batch_size, replace=False) # sample a batch of training data\n",
    "            loss, accuracy = self.backprop(data[idx], label[idx], i)\n",
    "            if i%1000 == 0 and log is True:\n",
    "                print(\"iteration %d: cross entrpy loss is %f, accuracy is %f\" %(i, loss, accuracy))\n",
    "        return loss\n",
    "    def test(self, data, label, log=False):\n",
    "        batch_size = data.shape[0]\n",
    "        out, _, _ = self.forward(data)\n",
    "        if data.shape[0] > 10: # if input test size is not too big, show the prediction\n",
    "            accuracy = self.accuracy(out, label, log=log)\n",
    "            print(\"testing size : %d, accuracy: %f\" %(batch_size, accuracy))\n",
    "        else:                  # otherwise, show the accuracy only\n",
    "            prediction = np.argmax(out, axis=1)[0]\n",
    "            ground_truth = np.argmax(label, axis=1)[0]\n",
    "            print(\"prediction is : %d, ground truth is: %d\" %(prediction, ground_truth))\n",
    "\n",
    "    def accuracy(self, x, y, log=False):\n",
    "        prediction = np.argmax(x, axis=1)\n",
    "       \n",
    "        ground_truth = np.argmax(y, axis=1)\n",
    "        comparison = (prediction == ground_truth)\n",
    "        r = np.sum(comparison) # count the number of correct  answer(true)\n",
    "        if log:\n",
    "            print(prediction)\n",
    "            print(r)\n",
    "        accuracy = r / y.shape[0] #accuracy\n",
    "        return accuracy\n"
   ]
  },
  {
   "cell_type": "markdown",
   "metadata": {},
   "source": [
    "## 3. performance & discussion\n",
    "### (i) training performance\n",
    "Train a 2 layer NN with hidden dim = 32 <br>\n",
    "batch size = 128 <br>\n",
    "iteration: 100000 <br>\n",
    "The output include cross entropy & accuarcy for every 1000 iterations"
   ]
  },
  {
   "cell_type": "code",
   "execution_count": 7,
   "metadata": {},
   "outputs": [
    {
     "name": "stdout",
     "output_type": "stream",
     "text": [
      "iteration 0: cross entrpy loss is 1.113041, accuracy is 0.335938\n",
      "iteration 1000: cross entrpy loss is 0.418622, accuracy is 0.859375\n",
      "iteration 2000: cross entrpy loss is 0.433221, accuracy is 0.843750\n",
      "iteration 3000: cross entrpy loss is 0.469763, accuracy is 0.804688\n",
      "iteration 4000: cross entrpy loss is 0.370516, accuracy is 0.867188\n",
      "iteration 5000: cross entrpy loss is 0.492652, accuracy is 0.765625\n",
      "iteration 6000: cross entrpy loss is 0.425867, accuracy is 0.851562\n",
      "iteration 7000: cross entrpy loss is 0.371173, accuracy is 0.851562\n",
      "iteration 8000: cross entrpy loss is 0.367706, accuracy is 0.859375\n",
      "iteration 9000: cross entrpy loss is 0.338250, accuracy is 0.898438\n"
     ]
    }
   ],
   "source": [
    "nn = twoLayerNN(train_img.shape[1], 3, hidden_d=32)\n",
    "_ = nn.train(train_img, label, 10000)"
   ]
  },
  {
   "cell_type": "markdown",
   "metadata": {},
   "source": [
    "### (ii) Testing performance\n",
    "The output include Testing size & accuarcy"
   ]
  },
  {
   "cell_type": "code",
   "execution_count": 8,
   "metadata": {},
   "outputs": [
    {
     "name": "stdout",
     "output_type": "stream",
     "text": [
      "testing size : 498, accuracy: 0.943775\n"
     ]
    }
   ],
   "source": [
    "nn.test(test_img, test_label, log=False)"
   ]
  },
  {
   "cell_type": "markdown",
   "metadata": {},
   "source": [
    "### (iii) Decision region\n",
    "The function below display the k-NN decsion boundaries for the neuron of last layer before softmax\n",
    "The implement details as below:\n",
    "1. extract the neuron of last layer before softmax\n",
    "2. Use PCA to downgrade into 2d\n",
    "3. Use 15 neighbors' label to decide the mesh color (K-NN algo form `sklearn`)\n",
    "4. the `layer` parameters indicate the total numbers of layer of the NN (since I share the same function between 2-layer NN and 3-layer NN)"
   ]
  },
  {
   "cell_type": "code",
   "execution_count": 9,
   "metadata": {},
   "outputs": [],
   "source": [
    "import numpy as np\n",
    "import matplotlib.pyplot as plt\n",
    "from matplotlib.colors import ListedColormap\n",
    "from sklearn import neighbors\n",
    "%matplotlib inline\n",
    "def plot_decision_boundary(x, nn, layer=3):\n",
    "\n",
    "    n_neighbors = 15\n",
    "    h = .02  # step size in the mesh\n",
    "    nn = nn\n",
    "    \n",
    "    # Create color maps\n",
    "    cmap_light = ListedColormap(['#FFAAAA', '#AAFFAA', '#AAAAFF'])\n",
    "\n",
    "    weights = 'uniform'\n",
    "        # we create an instance of Neighbours Classifier and fit the data.\n",
    "    clf = neighbors.KNeighborsClassifier(n_neighbors, weights=weights)\n",
    "    if layer == 2:\n",
    "        out, _, z2 = nn.forward(x)\n",
    "        X = z2\n",
    "    else:\n",
    "        out, _, _, z3 = nn.forward(x)\n",
    "        X = z3\n",
    "    scaler = StandardScaler()\n",
    "    scaler.fit(X)\n",
    "    X = scaler.transform(X)\n",
    "    pca = PCA(n_components=2)\n",
    "    pca.fit(X)\n",
    "    X = pca.transform(X)\n",
    "    prediction = np.argmax(out, axis=1)\n",
    "    y = prediction\n",
    "    clf.fit(X, y)\n",
    "    \n",
    "    # Plot the decision boundary. For that, we will assign a color to each\n",
    "    # point in the mesh [x_min, x_max]x[y_min, y_max].\n",
    "    x_min, x_max = X[:, 0].min() - 1, X[:, 0].max() + 1\n",
    "    y_min, y_max = X[:, 1].min() - 1, X[:, 1].max() + 1\n",
    "    xx, yy = np.meshgrid(np.arange(x_min, x_max, h),\n",
    "                         np.arange(y_min, y_max, h))\n",
    "    Z = clf.predict(np.c_[xx.ravel(), yy.ravel()])\n",
    "\n",
    "    # Put the result into a color plot\n",
    "    Z = Z.reshape(xx.shape)\n",
    "    plt.figure()\n",
    "    plt.pcolormesh(xx, yy, Z, cmap=cmap_light)\n",
    "\n",
    "    # Plot also the training points\n",
    "#     plt.scatter(X[:, 0], X[:, 1], c=y, cmap=cmap_bold, label=['1', '2', '3'])\n",
    "    markers=['s', 'x', 'o']\n",
    "    labels=[0, 1, 2]\n",
    "    names = ['Carambula', 'Lychee', 'Pear']\n",
    "    for c, i, target_name, m in zip('rgb', labels, names, markers):\n",
    "        plt.scatter(X[y==i, 0], X[y==i, 1], c=c, label=target_name, marker=m)\n",
    "    plt.xlabel('PCA-feature-1')\n",
    "    plt.ylabel('PCA-feature-2')\n",
    "    plt.legend(loc='upper right')\n",
    "#     plt.legend(loc='upper right')\n",
    "\n",
    "    plt.xlim(xx.min(), xx.max())\n",
    "    plt.ylim(yy.min(), yy.max())\n",
    "    plt.title(\"decision regions of layer %d (k = %i, weights = '%s')\" % (layer, n_neighbors, weights))\n",
    "    plt.show()\n"
   ]
  },
  {
   "cell_type": "code",
   "execution_count": 10,
   "metadata": {},
   "outputs": [
    {
     "data": {
      "image/png": "[encoded data removed]",
      "text/plain": [
       "<Figure size 432x288 with 1 Axes>"
      ]
     },
     "metadata": {
      "needs_background": "light"
     },
     "output_type": "display_data"
    }
   ],
   "source": [
    "plot_decision_boundary(train_img, nn, layer=2)"
   ]
  },
  {
   "cell_type": "markdown",
   "metadata": {},
   "source": [
    "##### ↑ looks good! :) "
   ]
  },
  {
   "cell_type": "markdown",
   "metadata": {},
   "source": [
    "### (iiii) Discssion\n",
    "#### Training loss with different hyperparameters\n",
    "Test the hidden dimension from 16 - 1024 with log scale with base 2 and plot the croos entropy loss with 5000 iterations"
   ]
  },
  {
   "cell_type": "code",
   "execution_count": 11,
   "metadata": {},
   "outputs": [],
   "source": [
    "losses = []\n",
    "for i in range(4, 11):\n",
    "    n = 2**i\n",
    "    nn = twoLayerNN(train_img.shape[1], 3, hidden_d=n)\n",
    "    loss = nn.train(train_img, label, 5000, log=False)\n",
    "    losses.append(loss)"
   ]
  },
  {
   "cell_type": "code",
   "execution_count": 12,
   "metadata": {},
   "outputs": [
    {
     "data": {
      "image/png": "[encoded data removed]",
      "text/plain": [
       "<Figure size 432x288 with 1 Axes>"
      ]
     },
     "metadata": {
      "needs_background": "light"
     },
     "output_type": "display_data"
    }
   ],
   "source": [
    "import pandas as pd\n",
    "dff=pd.DataFrame({'x': [16, 32, 64, 128, 256, 512, 1024], 'loss': losses})\n",
    " \n",
    "plt.xlabel('hidden dimension')\n",
    "plt.ylabel('cross entropy loss')\n",
    "plt.plot( 'x', 'loss', data=dff, marker='o', markerfacecolor='blue', markersize=12, color='skyblue', linewidth=4)\n",
    "# plt.plot( 'x', 'Testing Set', data=dff, marker='x', color='olive', linewidth=2)\n",
    "plt.legend()\n",
    "plt.show()"
   ]
  },
  {
   "cell_type": "markdown",
   "metadata": {},
   "source": [
    "We can see that in such simple case, the network with too large dimension might not have good performance compare to the smaller one"
   ]
  },
  {
   "cell_type": "markdown",
   "metadata": {},
   "source": [
    "# Part. (b)\n",
    "## 1. Three layer NN\n",
    "### The implement detals are listed below:\n",
    "1. The neural network was modulized as a class with several funcion belows\n",
    "2. In `init()` the var `self.const` was set to prevent from dividing zero to cause INF value, and the `self.step` is the gradient step. The hidden_d assign the hidden dimension of the network\n",
    "3. `sigmoid()` and `softmax()` are the activate functoins\n",
    "4. `sigmoid_derivative` is the derivative of sigmoid activate functoin\n",
    "5. `softmax_cross_entropy_deriative()` is the product between derivative of softmax & derivative of cross entropy loss\n",
    "6. `batch_norm()` is implementation of batch normalization, to prevent sigmoid to satiate easily\n",
    "7. `forward()` forward the input throughout the network, used when testing time\n",
    "8. `backprop()` is used when training time, including the the forward pass of the network and calculating the gradient with back-propagation by chain rules\n",
    "\n",
    "### The pipeline\n",
    "input_date --> concate bias_0 -->weights1 --> Z1 --> sigmoid --> output of layer1 --> add bias_1 --> weights2 --> Z2 --> sigmoid --> output of layer2 --> add bias_2 --> weights3 --> Z3--> softmax --> output\n",
    "\n",
    "### Stochastic gradient descent (SGD)\n",
    "The center concept of SGD differet from gradient descent is that SGD using mini-batch, not whole training dataset, to calculate the loss then optimize.\n",
    "The implimentation of SGD in this assignment is that I random sample a batch of input data from training set in `train()` function, the input parameter `batch_size` determine the mini-batch size."
   ]
  },
  {
   "cell_type": "code",
   "execution_count": 13,
   "metadata": {},
   "outputs": [],
   "source": [
    "class threeLayerNN():\n",
    "    \n",
    "    def __init__(self, input_shape, output_shape, hidden_d=32):\n",
    "        # seeding for random number generation\n",
    "        np.random.seed(1)\n",
    "        self.weights1 = np.random.rand(input_shape+1,hidden_d) # +1 is the bias \n",
    "        self.weights2 = np.random.rand(hidden_d,hidden_d)\n",
    "        self.weights3 = np.random.rand(hidden_d,output_shape)\n",
    "        self.b_std = np.zeros(shape=(hidden_d,))\n",
    "        self.b_mean = np.zeros(shape=(hidden_d,))\n",
    "        self.b_std_1 = np.zeros(shape=(hidden_d,))\n",
    "        self.b_mean_1 = np.zeros(shape=(hidden_d,))\n",
    "        self.bias_1 = np.random.rand(1, hidden_d) # hidden layer1 bias (from [0.1))\n",
    "        self.bias_2 = np.random.rand(1, hidden_d) # hidden layer2 bias (from [0.1))\n",
    "        self.const = 0.00000000001 # prevent from / 0\n",
    "        self.step = 0.1\n",
    "\n",
    "    def weights(self):\n",
    "        return self.weights1, self.weights2\n",
    "    \n",
    "    def sigmoid(self, x):\n",
    "        #applying the sigmoid function\n",
    "        return 1 / (1 + np.exp(-x))\n",
    "    \n",
    "    def sigmoid_derivative(self, x):\n",
    "        #computing derivative to the Sigmoid function\n",
    "        return x * (1 - x)\n",
    "    \n",
    "    def softmax(self, x):\n",
    "        exps = np.exp(x - np.max(x, axis=1).reshape(x.shape[0], 1))\n",
    "        return exps / np.sum(exps, axis=1).reshape(x.shape[0], 1)\n",
    "    \n",
    "    def batch_norm(self, x, bigBatch=True, second=False):\n",
    "        if bigBatch:\n",
    "            m = np.mean(x, axis=0)\n",
    "            s = np.std(x, axis=0)\n",
    "        else:\n",
    "            if second is True: # 2nd layer batch norm\n",
    "                m = self.b_mean_1\n",
    "                s = self.b_std_1\n",
    "            else:\n",
    "                m = self.b_mean\n",
    "                s = self.b_std\n",
    "        return (x-m)/(s+self.const), m, s\n",
    "    \n",
    "    def batch_norm_derivative(self, x):\n",
    "        return (np.std(x, axis=0) + self.const)**(-1)\n",
    "    \n",
    "    def softmax_cross_entropy_deriative(self, x, y):\n",
    "        return (x - y) # see how cross entropy loss & softmax deriative \n",
    "    \n",
    "    def cross_entropy(self, x, y):\n",
    "        return -np.log(x+self.const)*y\n",
    "    \n",
    "    def forward(self, x):\n",
    "        bias_0 = np.random.randn(x.shape[0], 1) # input bais\n",
    "        x = np.concatenate((bias_0, x), axis=1) # concatenate the bias to the input\n",
    "        z1 = np.dot(x, self.weights1)\n",
    "        batch_norm1, _, _ = self.batch_norm(z1, bigBatch=False)\n",
    "        layer1 = self.sigmoid(batch_norm1)\n",
    "        bias_1 = self.bias_1 # hidden layer1 bias (from [0.1))\n",
    "        layer1 += bias_1\n",
    "        z2 = np.dot(layer1, self.weights2)\n",
    "        batch_norm2, _, _ = self.batch_norm(z2, bigBatch=False, second=True)\n",
    "        layer2 = self.sigmoid(batch_norm2)\n",
    "        bias_2 = self.bias_2 # hidden layer1 bias (from [0.1))\n",
    "        layer2 += bias_2\n",
    "        z3 = np.dot(layer2, self.weights3)\n",
    "        out = self.softmax(z3)\n",
    "        return out, z1, z2, z3\n",
    "    \n",
    "    def backprop(self, x, y, iteration):\n",
    "        bias_0 = np.random.randn(x.shape[0], 1) # input bais\n",
    "        x = np.concatenate((bias_0, x), axis=1) # concatenate the bias to the input\n",
    "        \n",
    "        z1 = np.dot(x, self.weights1)\n",
    "        batch_norm1, mean, std = self.batch_norm(z1)\n",
    "#         print(mean.shape)\n",
    "        if not iteration == 0:\n",
    "            self.b_mean = 0.9*self.b_mean + 0.1*mean\n",
    "            self.b_std = 0.9*self.b_std + 0.1*std\n",
    "        else:\n",
    "            self.b_mean = mean\n",
    "            self.b_std = std\n",
    "        layer1 = self.sigmoid(batch_norm1)\n",
    "        \n",
    "        bias_1 = self.bias_1 # hidden layer1 bias (from [0.1))\n",
    "        layer1_b = layer1+bias_1 # WX+b\n",
    "        z2 = np.dot(layer1_b, self.weights2)\n",
    "        batch_norm2, mean, std = self.batch_norm(z2, second=True)\n",
    "        if not iteration == 0:\n",
    "            self.b_mean_1 = 0.9*self.b_mean_1 + 0.1*mean\n",
    "            self.b_std_1 = 0.9*self.b_std_1 + 0.1*std\n",
    "        else:\n",
    "            self.b_mean = mean\n",
    "            self.b_std = std\n",
    "        layer2 = self.sigmoid(batch_norm2)\n",
    "        \n",
    "        bais_2 = self.bias_2\n",
    "        layer2_b = layer2 + bais_2\n",
    "        z3 = np.dot(layer2_b, self.weights3)\n",
    "        out = self.softmax(z3)\n",
    "        \n",
    "#         print(layer1)\n",
    "        ## backprop & calculate the gradient\n",
    "        \n",
    "        d_softmax_cross = self.softmax_cross_entropy_deriative(out, y)/y.shape[0] # mean\n",
    "        d_weights3 = np.dot(np.transpose(layer2_b), d_softmax_cross)\n",
    "        \n",
    "        b0 = np.dot(d_softmax_cross, np.transpose(self.weights3)) \\\n",
    "        * self.sigmoid_derivative(layer2) * self.batch_norm_derivative(z2)\n",
    "        d_weights2 = np.dot(np.transpose(layer1_b), b0)\n",
    "        d_bias2 = np.dot(np.ones(shape=(1, layer1_b.shape[0])), b0) \n",
    "        \n",
    "        b = np.dot(b0, np.transpose(self.weights2)) \\\n",
    "        * self.sigmoid_derivative(layer1) * self.batch_norm_derivative(z1)\n",
    "        d_weights1 = np.dot(np.transpose(x),  b)\n",
    "        d_bias1 = np.dot(np.ones(shape=(1, x.shape[0])), b)\n",
    "        \n",
    "        ## update weights\n",
    "        self.weights3 -= self.step*d_weights3\n",
    "        self.weights2 -= self.step*d_weights2\n",
    "        self.weights1 -= self.step*d_weights1\n",
    "        self.bias_2 -= self.step*d_bias2\n",
    "        self.bias_1 -= self.step*d_bias1 \n",
    "#         print(d_weights1)\n",
    "        \n",
    "        loss = self.cross_entropy(out, y)\n",
    "        loss = np.sum(loss, axis=1)\n",
    "        loss = np.mean(loss)\n",
    "        accuracy = self.accuracy(out, y)\n",
    "        return loss, accuracy\n",
    "    \n",
    "    def train(self, data, label ,total_iteration, batch_size=128, log=True):\n",
    "        for i in range(total_iteration):\n",
    "            idx = np.random.choice(490*3, batch_size, replace=False)\n",
    "            loss, accuracy = self.backprop(data[idx], label[idx], i)\n",
    "            if i%1000 == 0 and log is True:\n",
    "                print(\"iteration %d: cross entrpy loss is %f, accuracy is %f\" %(i, loss, accuracy))\n",
    "        return loss\n",
    "    def test(self, data, label, log=False):\n",
    "        batch_size = data.shape[0]\n",
    "        out, _, _, _ = self.forward(data)\n",
    "        if data.shape[0] > 10: # if input test size is not too big, show the prediction\n",
    "            accuracy = self.accuracy(out, label, log=log)\n",
    "            print(\"testing size : %d, accuracy: %f\" %(batch_size, accuracy))\n",
    "        else:                  # otherwise, show the accuracy only\n",
    "            prediction = np.argmax(out, axis=1)[0]\n",
    "            ground_truth = np.argmax(label, axis=1)[0]\n",
    "            print(\"prediction is : %d, ground truth is: %d\" %(prediction, ground_truth))\n",
    "\n",
    "    def accuracy(self, x, y, log=False):\n",
    "        prediction = np.argmax(x, axis=1)\n",
    "       \n",
    "        ground_truth = np.argmax(y, axis=1)\n",
    "        comparison = (prediction == ground_truth)\n",
    "        r = np.sum(comparison) # count the number of correct  answer(true)\n",
    "        if log:\n",
    "            print(prediction)\n",
    "            print(r)\n",
    "        accuracy = r / y.shape[0] #accuracy\n",
    "        return accuracy\n",
    "    "
   ]
  },
  {
   "cell_type": "markdown",
   "metadata": {},
   "source": [
    "## 3. performance & discussion\n",
    "### (i) training performance\n",
    "Train a 2 layer NN with hidden dim = 32 <br>\n",
    "batch size = 128 <br>\n",
    "iteration: 100000 <br>\n",
    "The output include cross entropy & accuarcy for every 1000 iterations"
   ]
  },
  {
   "cell_type": "code",
   "execution_count": 14,
   "metadata": {},
   "outputs": [
    {
     "name": "stdout",
     "output_type": "stream",
     "text": [
      "iteration 0: cross entrpy loss is 1.524063, accuracy is 0.359375\n",
      "iteration 1000: cross entrpy loss is 0.596580, accuracy is 0.804688\n",
      "iteration 2000: cross entrpy loss is 0.416016, accuracy is 0.890625\n",
      "iteration 3000: cross entrpy loss is 0.423091, accuracy is 0.828125\n",
      "iteration 4000: cross entrpy loss is 0.460228, accuracy is 0.781250\n",
      "iteration 5000: cross entrpy loss is 0.396366, accuracy is 0.859375\n",
      "iteration 6000: cross entrpy loss is 0.506677, accuracy is 0.789062\n",
      "iteration 7000: cross entrpy loss is 0.411173, accuracy is 0.859375\n",
      "iteration 8000: cross entrpy loss is 0.272968, accuracy is 0.921875\n",
      "iteration 9000: cross entrpy loss is 0.437793, accuracy is 0.835938\n"
     ]
    }
   ],
   "source": [
    "nn3 = threeLayerNN(train_img.shape[1], 3, hidden_d=32)\n",
    "_ = nn3.train(train_img, label, 10000)"
   ]
  },
  {
   "cell_type": "markdown",
   "metadata": {},
   "source": [
    "### (ii) Testing performance\n",
    "The output include Testing size & accuarcy"
   ]
  },
  {
   "cell_type": "code",
   "execution_count": 15,
   "metadata": {},
   "outputs": [
    {
     "name": "stdout",
     "output_type": "stream",
     "text": [
      "testing size : 498, accuracy: 0.937751\n"
     ]
    }
   ],
   "source": [
    "nn3.test(test_img, test_label, log=False)"
   ]
  },
  {
   "cell_type": "markdown",
   "metadata": {},
   "source": [
    "### (iii) Decision region\n",
    "The function is as same as the one above, if you want to know about the details, pls check the discription ablove!"
   ]
  },
  {
   "cell_type": "code",
   "execution_count": 16,
   "metadata": {},
   "outputs": [
    {
     "data": {
      "image/png": "[encoded data removed]",
      "text/plain": [
       "<Figure size 432x288 with 1 Axes>"
      ]
     },
     "metadata": {
      "needs_background": "light"
     },
     "output_type": "display_data"
    }
   ],
   "source": [
    "plot_decision_boundary(train_img, nn3, layer=3)"
   ]
  },
  {
   "cell_type": "markdown",
   "metadata": {},
   "source": [
    "##### ↑ still looks perfect! :) "
   ]
  },
  {
   "cell_type": "markdown",
   "metadata": {},
   "source": [
    "### (iiii) Discssion\n",
    "#### Training loss with different hyperparameters\n",
    "Test the hidden dimension from 16 - 1024 with log scale with base 2 and plot the croos entropy loss with 5000 iterations"
   ]
  },
  {
   "cell_type": "code",
   "execution_count": 17,
   "metadata": {},
   "outputs": [],
   "source": [
    "losses = []\n",
    "for i in range(4, 11):\n",
    "    n = 2**i\n",
    "    nn3 = threeLayerNN(train_img.shape[1], 3, hidden_d=n)\n",
    "    loss = nn3.train(train_img, label, 5000, log=False)\n",
    "    losses.append(loss)"
   ]
  },
  {
   "cell_type": "code",
   "execution_count": 18,
   "metadata": {},
   "outputs": [
    {
     "data": {
      "image/png": "[encoded data removed]",
      "text/plain": [
       "<Figure size 432x288 with 1 Axes>"
      ]
     },
     "metadata": {
      "needs_background": "light"
     },
     "output_type": "display_data"
    }
   ],
   "source": [
    "import pandas as pd\n",
    "dff=pd.DataFrame({'x': [16, 32, 64, 128, 256, 512, 1024], 'loss': losses})\n",
    " \n",
    "plt.xlabel('hidden dimension')\n",
    "plt.ylabel('cross entropy loss')\n",
    "plt.plot( 'x', 'loss', data=dff, marker='o', markerfacecolor='blue', markersize=12, color='skyblue', linewidth=4)\n",
    "# plt.plot( 'x', 'Testing Set', data=dff, marker='x', color='olive', linewidth=2)\n",
    "plt.legend()\n",
    "plt.show()"
   ]
  },
  {
   "cell_type": "markdown",
   "metadata": {},
   "source": [
    "Still, we can see that in such simple case, the network with too large dimension might not have good performance compare to the smaller one"
   ]
  }
 ],
 "metadata": {
  "kernelspec": {
   "display_name": "Python 3",
   "language": "python",
   "name": "python3"
  },
  "language_info": {
   "codemirror_mode": {
    "name": "ipython",
    "version": 3
   },
   "file_extension": ".py",
   "mimetype": "text/x-python",
   "name": "python",
   "nbconvert_exporter": "python",
   "pygments_lexer": "ipython3",
   "version": "3.7.4"
  }
 },
 "nbformat": 4,
 "nbformat_minor": 2
}
